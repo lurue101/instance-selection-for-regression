{
 "cells": [
  {
   "cell_type": "code",
   "execution_count": 11,
   "id": "f2f96abe",
   "metadata": {},
   "outputs": [],
   "source": [
    "from sklearn.linear_model import LinearRegression\n",
    "from sklearn.model_selection import train_test_split\n",
    "from sklearn.metrics import r2_score\n",
    "import numpy as np\n",
    "from kondo_ml.instance_selection import RegEnnSelector\n",
    "from kondo_ml.utils import transform_selector_output_into_mask"
   ]
  },
  {
   "cell_type": "code",
   "execution_count": 2,
   "id": "c487d740",
   "metadata": {},
   "outputs": [],
   "source": [
    "# Generate random instances with random linear coefficients\n",
    "nr_samples = 1000\n",
    "nr_features =10 \n",
    "rs = np.random.RandomState(42)\n",
    "X = rs.normal(0, 1, size=(nr_samples, nr_features))\n",
    "y = np.zeros(nr_samples)\n",
    "coefs = np.round(rs.uniform(-10, 10, nr_features), 2)\n",
    "for i in range(nr_features):\n",
    "    y += coefs[i] * X[:, i]\n",
    "y += rs.normal(0, 1, size=nr_samples)"
   ]
  },
  {
   "cell_type": "code",
   "execution_count": 3,
   "id": "9123bf9c",
   "metadata": {},
   "outputs": [],
   "source": [
    "# Split data into train, val, test set\n",
    "X_train, X_test, y_train, y_test = train_test_split(X, y, test_size=0.4)\n",
    "X_val, X_test = X_test[:200], X_test[200:]\n",
    "y_val, y_test = y_test[:200], y_test[200:]"
   ]
  },
  {
   "cell_type": "code",
   "execution_count": 4,
   "id": "ec675533",
   "metadata": {},
   "outputs": [],
   "source": [
    "def add_random_noise_arnaiz(\n",
    "    y: np.ndarray, noise_frac: float = 0.1):\n",
    "    \"\"\"\n",
    "    As described in paper \"Instance Selection for regression\" by Arnaiz-Gonzalez under 4.5, to add random noise\n",
    "    for some % of the samples, we simply exchange the target values. Thus neither the feature nor target distribution\n",
    "    is changed\n",
    "\n",
    "    Parameters\n",
    "    ----------\n",
    "    y\n",
    "        array containing target values\n",
    "    noise_frac\n",
    "        % of samples that are affected. Thus noise_pct/2 is the number of affected sample pairs\n",
    "\n",
    "    Returns\n",
    "    -------\n",
    "    array with the swapped values\n",
    "    \"\"\"\n",
    "    if noise_frac == 0:\n",
    "        return y, []\n",
    "    else:\n",
    "        y_noisy = y.copy()\n",
    "        possible_idx = np.arange(len(y_noisy))\n",
    "        nr_swapping_pairs = int(len(y_noisy) * noise_frac / 2)\n",
    "        swapping_pairs = np.random.choice(\n",
    "            possible_idx, (nr_swapping_pairs, 2), replace=False\n",
    "        )\n",
    "        first_half = swapping_pairs[:, 0]\n",
    "        second_half = swapping_pairs[:, 1]\n",
    "        y_noisy[first_half], y_noisy[second_half] = (\n",
    "            y_noisy[second_half],\n",
    "            y_noisy[first_half],\n",
    "        )\n",
    "        noisy_indices = swapping_pairs.flatten()\n",
    "    return y_noisy, noisy_indices\n"
   ]
  },
  {
   "cell_type": "code",
   "execution_count": 5,
   "id": "36da1c2f",
   "metadata": {},
   "outputs": [],
   "source": [
    "# Add noise by randomly swapping the y value for 30% all instances\n",
    "y_train_noisy, noisy_idx = add_random_noise_arnaiz(y_train, noise_frac=0.3)"
   ]
  },
  {
   "cell_type": "code",
   "execution_count": 6,
   "id": "98e6921e",
   "metadata": {},
   "outputs": [
    {
     "data": {
      "text/plain": [
       "0.9972212002457562"
      ]
     },
     "execution_count": 6,
     "metadata": {},
     "output_type": "execute_result"
    }
   ],
   "source": [
    "# R2 of the model trained on the clean data set\n",
    "model_clean = LinearRegression().fit(X_train, y_train)\n",
    "r2_score(y_test, model_clean.predict(X_test))"
   ]
  },
  {
   "cell_type": "code",
   "execution_count": 7,
   "id": "9772d77b",
   "metadata": {},
   "outputs": [
    {
     "data": {
      "text/plain": [
       "0.9169246457903473"
      ]
     },
     "execution_count": 7,
     "metadata": {},
     "output_type": "execute_result"
    }
   ],
   "source": [
    "# R2 of the model trained on the noisy data set\n",
    "model_clean = LinearRegression().fit(X_train, y_train_noisy)\n",
    "r2_score(y_test, model_clean.predict(X_test))"
   ]
  },
  {
   "cell_type": "code",
   "execution_count": 13,
   "id": "42f941eb",
   "metadata": {},
   "outputs": [
    {
     "data": {
      "text/plain": [
       "0.9926253257413306"
      ]
     },
     "execution_count": 13,
     "metadata": {},
     "output_type": "execute_result"
    }
   ],
   "source": [
    "# R2 of the model trained on the noisy data set, but with only those instance selected by the RegENN algorithm\n",
    "reg_enn = RegEnnSelector(alpha=1,nr_of_neighbors=3)\n",
    "labels = reg_enn.fit_predict(X_train,y_train_noisy)\n",
    "boolean_labels = transform_selector_output_into_mask(labels)\n",
    "model_selector = LinearRegression().fit(X_train[boolean_labels],y_train_noisy[boolean_labels])\n",
    "r2_score(y_test,model_selector.predict(X_test))"
   ]
  },
  {
   "cell_type": "code",
   "execution_count": null,
   "id": "81a6b9ac",
   "metadata": {},
   "outputs": [],
   "source": []
  }
 ],
 "metadata": {
  "kernelspec": {
   "display_name": "Python 3 (ipykernel)",
   "language": "python",
   "name": "python3"
  },
  "language_info": {
   "codemirror_mode": {
    "name": "ipython",
    "version": 3
   },
   "file_extension": ".py",
   "mimetype": "text/x-python",
   "name": "python",
   "nbconvert_exporter": "python",
   "pygments_lexer": "ipython3",
   "version": "3.11.1"
  }
 },
 "nbformat": 4,
 "nbformat_minor": 5
}
